{
 "cells": [
  {
   "cell_type": "markdown",
   "metadata": {},
   "source": [
    "## Two Number Sum\n",
    "\n",
    "Write a function that takes in a non-empty array of distinct integers and an integer representing a target sum. If any two numbers in the input array sum up to the target sum, the function should return them in an array, in any order. If no two numbers sum up to the target sum, the function should return an empty array.\n",
    "\n",
    "Note that the target sum has to be obtained by summing two different integers in the array; you can't add a single integer to itself in order to obtain the target sum.\n",
    "\n",
    "You can assume that there will be at most one pair of numbers summing up to the target sum.\n",
    "\n",
    "#### Sample Input:\n",
    "\n",
    "```python\n",
    "array = [3, 5, -4, 8, 11, 1, -1, 6]`\n",
    "targetSum = 10\n",
    "```\n",
    "\n",
    "#### Sample Output:\n",
    "`[11, -1]`\n",
    "\n",
    "Problem: https://www.algoexpert.io/questions/two-number-sum\n",
    "\n",
    "Explaination: https://youtu.be/Q91qhiJrUGs"
   ]
  },
  {
   "cell_type": "code",
   "execution_count": null,
   "metadata": {},
   "outputs": [],
   "source": [
    "array = [3, 5, -4, 8, 11, 1, -1, 6]\n",
    "targetSum = 10"
   ]
  },
  {
   "cell_type": "markdown",
   "metadata": {},
   "source": [
    "#### 1. Brute Force Approach "
   ]
  },
  {
   "cell_type": "code",
   "execution_count": 6,
   "metadata": {},
   "outputs": [
    {
     "data": {
      "text/plain": [
       "[11, -1]"
      ]
     },
     "execution_count": 6,
     "metadata": {},
     "output_type": "execute_result"
    }
   ],
   "source": [
    "def twoNumberSum(array, targetSum):\n",
    "    for n in array:\n",
    "        for m in array:\n",
    "            if m == n: continue\n",
    "            if n+m == targetSum:\n",
    "                return [n,m]\n",
    "    return []\n",
    "\n",
    "twoNumberSum(array, targetSum)"
   ]
  },
  {
   "cell_type": "markdown",
   "metadata": {},
   "source": [
    "#### 2. Two-Pointer Technique"
   ]
  },
  {
   "cell_type": "code",
   "execution_count": 12,
   "metadata": {},
   "outputs": [
    {
     "data": {
      "text/plain": [
       "[-1, 11]"
      ]
     },
     "execution_count": 12,
     "metadata": {},
     "output_type": "execute_result"
    }
   ],
   "source": [
    "def twoNumberSum(array, targetSum):\n",
    "    array.sort()\n",
    "    left_index , right_index = 0, len(array)-1\n",
    "    while left_index < right_index:\n",
    "        left_num = array[left_index]\n",
    "        right_num = array[right_index]\n",
    "        number_sum = left_num + right_num\n",
    "        if number_sum > targetSum:\n",
    "            right_index -= 1\n",
    "        elif number_sum < targetSum:\n",
    "            left_index += 1\n",
    "        else:\n",
    "            return [left_num, right_num]\n",
    "    return []\n",
    "        \n",
    "twoNumberSum(array,targetSum)"
   ]
  },
  {
   "cell_type": "markdown",
   "metadata": {},
   "source": [
    "#### 3. Hash Map / Dictionary Approach"
   ]
  },
  {
   "cell_type": "code",
   "execution_count": 13,
   "metadata": {},
   "outputs": [
    {
     "data": {
      "text/plain": [
       "[11, -1]"
      ]
     },
     "execution_count": 13,
     "metadata": {},
     "output_type": "execute_result"
    }
   ],
   "source": [
    "def twoNumberSum(array, targetSum):\n",
    "    hash = {}\n",
    "    for n in array:\n",
    "        potential_match = targetSum - n\n",
    "        if potential_match in hash:\n",
    "            return [n,potential_match]\n",
    "        else:\n",
    "            hash[n] = True\n",
    "    return []\n",
    "\n",
    "twoNumberSum(array,targetSum)"
   ]
  }
 ],
 "metadata": {
  "kernelspec": {
   "display_name": "Python 3",
   "language": "python",
   "name": "python3"
  },
  "language_info": {
   "codemirror_mode": {
    "name": "ipython",
    "version": 3
   },
   "file_extension": ".py",
   "mimetype": "text/x-python",
   "name": "python",
   "nbconvert_exporter": "python",
   "pygments_lexer": "ipython3",
   "version": "3.11.7"
  }
 },
 "nbformat": 4,
 "nbformat_minor": 2
}
